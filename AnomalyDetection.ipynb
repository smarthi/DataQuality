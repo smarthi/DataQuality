{
 "cells": [
  {
   "cell_type": "code",
   "execution_count": 1,
   "metadata": {},
   "outputs": [
    {
     "data": {
      "text/html": [
       "Current session configs: <tt>{'conf': {'spark.jars': 'https://repo1.maven.org/maven2/com/amazon/deequ/deequ/1.0.2/deequ-1.0.2.jar'}, 'kind': 'spark'}</tt><br>"
      ],
      "text/plain": [
       "<IPython.core.display.HTML object>"
      ]
     },
     "metadata": {},
     "output_type": "display_data"
    },
    {
     "data": {
      "text/html": [
       "<table>\n",
       "<tr><th>ID</th><th>YARN Application ID</th><th>Kind</th><th>State</th><th>Spark UI</th><th>Driver log</th><th>Current session?</th></tr><tr><td>12</td><td>application_1578964032290_0012</td><td>spark</td><td>idle</td><td><a target=\"_blank\" href=\"http://ip-172-31-26-149.us-west-1.compute.internal:20888/proxy/application_1578964032290_0012/\">Link</a></td><td><a target=\"_blank\" href=\"http://ip-172-31-23-108.us-west-1.compute.internal:8042/node/containerlogs/container_1578964032290_0012_01_000001/livy\">Link</a></td><td></td></tr></table>"
      ],
      "text/plain": [
       "<IPython.core.display.HTML object>"
      ]
     },
     "metadata": {},
     "output_type": "display_data"
    }
   ],
   "source": [
    "%%configure -f\n",
    "{\n",
    "    \"conf\": {\n",
    "        \"spark.jars\": \"https://repo1.maven.org/maven2/com/amazon/deequ/deequ/1.0.2/deequ-1.0.2.jar\"\n",
    "    }\n",
    "}"
   ]
  },
  {
   "cell_type": "code",
   "execution_count": 2,
   "metadata": {},
   "outputs": [
    {
     "data": {
      "application/vnd.jupyter.widget-view+json": {
       "model_id": "037322b21c5949c0827ca5d9f51a91fc",
       "version_major": 2,
       "version_minor": 0
      },
      "text/plain": [
       "VBox()"
      ]
     },
     "metadata": {},
     "output_type": "display_data"
    },
    {
     "name": "stdout",
     "output_type": "stream",
     "text": [
      "Starting Spark application\n"
     ]
    },
    {
     "data": {
      "text/html": [
       "<table>\n",
       "<tr><th>ID</th><th>YARN Application ID</th><th>Kind</th><th>State</th><th>Spark UI</th><th>Driver log</th><th>Current session?</th></tr><tr><td>13</td><td>application_1578964032290_0013</td><td>spark</td><td>idle</td><td><a target=\"_blank\" href=\"http://ip-172-31-26-149.us-west-1.compute.internal:20888/proxy/application_1578964032290_0013/\">Link</a></td><td><a target=\"_blank\" href=\"http://ip-172-31-21-48.us-west-1.compute.internal:8042/node/containerlogs/container_1578964032290_0013_01_000001/livy\">Link</a></td><td>✔</td></tr></table>"
      ],
      "text/plain": [
       "<IPython.core.display.HTML object>"
      ]
     },
     "metadata": {},
     "output_type": "display_data"
    },
    {
     "data": {
      "application/vnd.jupyter.widget-view+json": {
       "model_id": "",
       "version_major": 2,
       "version_minor": 0
      },
      "text/plain": [
       "FloatProgress(value=0.0, bar_style='info', description='Progress:', layout=Layout(height='25px', width='50%'),…"
      ]
     },
     "metadata": {},
     "output_type": "display_data"
    },
    {
     "name": "stdout",
     "output_type": "stream",
     "text": [
      "SparkSession available as 'spark'.\n"
     ]
    },
    {
     "data": {
      "application/vnd.jupyter.widget-view+json": {
       "model_id": "",
       "version_major": 2,
       "version_minor": 0
      },
      "text/plain": [
       "FloatProgress(value=0.0, bar_style='info', description='Progress:', layout=Layout(height='25px', width='50%'),…"
      ]
     },
     "metadata": {},
     "output_type": "display_data"
    },
    {
     "name": "stdout",
     "output_type": "stream",
     "text": [
      "import com.amazon.deequ.VerificationSuite\n",
      "import com.amazon.deequ.analyzers.Size\n",
      "import com.amazon.deequ.anomalydetection.RelativeRateOfChangeStrategy\n",
      "import com.amazon.deequ.repository.ResultKey\n",
      "import com.amazon.deequ.repository.memory.InMemoryMetricsRepository\n",
      "import com.amazon.deequ.checks.CheckStatus._\n",
      "import org.apache.spark.sql.{DataFrame, SparkSession}\n"
     ]
    }
   ],
   "source": [
    "import com.amazon.deequ.VerificationSuite\n",
    "import com.amazon.deequ.analyzers.Size\n",
    "import com.amazon.deequ.anomalydetection.RelativeRateOfChangeStrategy\n",
    "import com.amazon.deequ.repository.ResultKey\n",
    "import com.amazon.deequ.repository.memory.InMemoryMetricsRepository\n",
    "import com.amazon.deequ.checks.CheckStatus._\n",
    "import org.apache.spark.sql.{DataFrame, SparkSession}"
   ]
  },
  {
   "cell_type": "code",
   "execution_count": 4,
   "metadata": {},
   "outputs": [
    {
     "data": {
      "application/vnd.jupyter.widget-view+json": {
       "model_id": "091815e588134737aa9c491c8596f0aa",
       "version_major": 2,
       "version_minor": 0
      },
      "text/plain": [
       "VBox()"
      ]
     },
     "metadata": {},
     "output_type": "display_data"
    },
    {
     "data": {
      "application/vnd.jupyter.widget-view+json": {
       "model_id": "",
       "version_major": 2,
       "version_minor": 0
      },
      "text/plain": [
       "FloatProgress(value=0.0, bar_style='info', description='Progress:', layout=Layout(height='25px', width='50%'),…"
      ]
     },
     "metadata": {},
     "output_type": "display_data"
    },
    {
     "name": "stdout",
     "output_type": "stream",
     "text": [
      "session: org.apache.spark.sql.SparkSession = org.apache.spark.sql.SparkSession@5decd65c\n"
     ]
    }
   ],
   "source": [
    "val session = SparkSession.builder().master(\"local\").appName(\"test\").config(\"spark.ui.enabled\", \"false\").getOrCreate()"
   ]
  },
  {
   "cell_type": "code",
   "execution_count": 6,
   "metadata": {},
   "outputs": [
    {
     "data": {
      "application/vnd.jupyter.widget-view+json": {
       "model_id": "df3a19dc836342f0bc8fa41c0fc7b621",
       "version_major": 2,
       "version_minor": 0
      },
      "text/plain": [
       "VBox()"
      ]
     },
     "metadata": {},
     "output_type": "display_data"
    },
    {
     "data": {
      "application/vnd.jupyter.widget-view+json": {
       "model_id": "",
       "version_major": 2,
       "version_minor": 0
      },
      "text/plain": [
       "FloatProgress(value=0.0, bar_style='info', description='Progress:', layout=Layout(height='25px', width='50%'),…"
      ]
     },
     "metadata": {},
     "output_type": "display_data"
    },
    {
     "name": "stdout",
     "output_type": "stream",
     "text": [
      "defined class Item\n"
     ]
    }
   ],
   "source": [
    "case class Item(\n",
    "    id: Long,\n",
    "    productName: String,\n",
    "    description: String,\n",
    "    priority: String,\n",
    "    numViews: Long\n",
    ")"
   ]
  },
  {
   "cell_type": "code",
   "execution_count": 7,
   "metadata": {},
   "outputs": [
    {
     "data": {
      "application/vnd.jupyter.widget-view+json": {
       "model_id": "e4d1e24d19704f66abb65ceb26fdb0c9",
       "version_major": 2,
       "version_minor": 0
      },
      "text/plain": [
       "VBox()"
      ]
     },
     "metadata": {},
     "output_type": "display_data"
    },
    {
     "data": {
      "application/vnd.jupyter.widget-view+json": {
       "model_id": "",
       "version_major": 2,
       "version_minor": 0
      },
      "text/plain": [
       "FloatProgress(value=0.0, bar_style='info', description='Progress:', layout=Layout(height='25px', width='50%'),…"
      ]
     },
     "metadata": {},
     "output_type": "display_data"
    },
    {
     "name": "stdout",
     "output_type": "stream",
     "text": [
      "itemsAsDataframe: (session: org.apache.spark.sql.SparkSession, items: Item*)org.apache.spark.sql.DataFrame\n"
     ]
    }
   ],
   "source": [
    "  def itemsAsDataframe(session: SparkSession, items: Item*): DataFrame = {\n",
    "    val rdd = session.sparkContext.parallelize(items)\n",
    "    session.createDataFrame(rdd)\n",
    "  }"
   ]
  },
  {
   "cell_type": "code",
   "execution_count": 8,
   "metadata": {},
   "outputs": [
    {
     "data": {
      "application/vnd.jupyter.widget-view+json": {
       "model_id": "888eb8b0ac03447da106890ea6d243f5",
       "version_major": 2,
       "version_minor": 0
      },
      "text/plain": [
       "VBox()"
      ]
     },
     "metadata": {},
     "output_type": "display_data"
    },
    {
     "data": {
      "application/vnd.jupyter.widget-view+json": {
       "model_id": "",
       "version_major": 2,
       "version_minor": 0
      },
      "text/plain": [
       "FloatProgress(value=0.0, bar_style='info', description='Progress:', layout=Layout(height='25px', width='50%'),…"
      ]
     },
     "metadata": {},
     "output_type": "display_data"
    },
    {
     "name": "stdout",
     "output_type": "stream",
     "text": [
      "metricsRepository: com.amazon.deequ.repository.memory.InMemoryMetricsRepository = com.amazon.deequ.repository.memory.InMemoryMetricsRepository@9bd634b\n"
     ]
    }
   ],
   "source": [
    "   /* Anomaly detection operates on metrics stored in a metric repository, so lets create one */\n",
    "    val metricsRepository = new InMemoryMetricsRepository()"
   ]
  },
  {
   "cell_type": "code",
   "execution_count": 9,
   "metadata": {},
   "outputs": [
    {
     "data": {
      "application/vnd.jupyter.widget-view+json": {
       "model_id": "919d067ba1d144259e4ae8b64992b063",
       "version_major": 2,
       "version_minor": 0
      },
      "text/plain": [
       "VBox()"
      ]
     },
     "metadata": {},
     "output_type": "display_data"
    },
    {
     "data": {
      "application/vnd.jupyter.widget-view+json": {
       "model_id": "",
       "version_major": 2,
       "version_minor": 0
      },
      "text/plain": [
       "FloatProgress(value=0.0, bar_style='info', description='Progress:', layout=Layout(height='25px', width='50%'),…"
      ]
     },
     "metadata": {},
     "output_type": "display_data"
    },
    {
     "name": "stdout",
     "output_type": "stream",
     "text": [
      "yesterdaysKey: com.amazon.deequ.repository.ResultKey = ResultKey(1579490603123,Map())\n"
     ]
    }
   ],
   "source": [
    "    /* This is the key which we use to store the metrics for the dataset from yesterday */\n",
    "    val yesterdaysKey = ResultKey(System.currentTimeMillis() - 24 * 60 * 1000)"
   ]
  },
  {
   "cell_type": "code",
   "execution_count": 10,
   "metadata": {},
   "outputs": [
    {
     "data": {
      "application/vnd.jupyter.widget-view+json": {
       "model_id": "f86ca1d8600045f4a849ec6a64bbd5bb",
       "version_major": 2,
       "version_minor": 0
      },
      "text/plain": [
       "VBox()"
      ]
     },
     "metadata": {},
     "output_type": "display_data"
    },
    {
     "data": {
      "application/vnd.jupyter.widget-view+json": {
       "model_id": "",
       "version_major": 2,
       "version_minor": 0
      },
      "text/plain": [
       "FloatProgress(value=0.0, bar_style='info', description='Progress:', layout=Layout(height='25px', width='50%'),…"
      ]
     },
     "metadata": {},
     "output_type": "display_data"
    },
    {
     "name": "stdout",
     "output_type": "stream",
     "text": [
      "yesterdaysDataset: org.apache.spark.sql.DataFrame = [id: bigint, productName: string ... 3 more fields]\n"
     ]
    }
   ],
   "source": [
    "    /* Yesterday, the data had only two rows */\n",
    "    val yesterdaysDataset = itemsAsDataframe(session,\n",
    "      Item(1, \"Thingy A\", \"awesome thing.\", \"high\", 0),\n",
    "      Item(2, \"Thingy B\", \"available at http://thingb.com\", null, 0))"
   ]
  },
  {
   "cell_type": "code",
   "execution_count": 13,
   "metadata": {},
   "outputs": [
    {
     "data": {
      "application/vnd.jupyter.widget-view+json": {
       "model_id": "42ee04889a9a45baaa6220860701831f",
       "version_major": 2,
       "version_minor": 0
      },
      "text/plain": [
       "VBox()"
      ]
     },
     "metadata": {},
     "output_type": "display_data"
    },
    {
     "data": {
      "application/vnd.jupyter.widget-view+json": {
       "model_id": "",
       "version_major": 2,
       "version_minor": 0
      },
      "text/plain": [
       "FloatProgress(value=0.0, bar_style='info', description='Progress:', layout=Layout(height='25px', width='50%'),…"
      ]
     },
     "metadata": {},
     "output_type": "display_data"
    },
    {
     "name": "stdout",
     "output_type": "stream",
     "text": [
      "res9: com.amazon.deequ.VerificationResult = VerificationResult(Warning,Map(Check(Warning,Anomaly check for Size(None),List(AnomalyConstraint(Size(None)))) -> CheckResult(Check(Warning,Anomaly check for Size(None),List(AnomalyConstraint(Size(None)))),Warning,List(ConstraintResult(AnomalyConstraint(Size(None)),Failure,Some(Can't execute the assertion: requirement failed: There have to be previous results in the MetricsRepository!!),Some(DoubleMetric(Dataset,Size,*,Success(2.0))))))),Map(Size(None) -> DoubleMetric(Dataset,Size,*,Success(2.0))))\n"
     ]
    }
   ],
   "source": [
    "/* We test for anomalies in the size of the data, it should not increase by more than 2x. Note\n",
    "    that we store the resulting metrics in our repository */\n",
    "VerificationSuite().onData(yesterdaysDataset).useRepository(metricsRepository).saveOrAppendResult(yesterdaysKey).addAnomalyCheck(RelativeRateOfChangeStrategy(maxRateIncrease = Some(2.0)), Size()).run()"
   ]
  },
  {
   "cell_type": "code",
   "execution_count": 14,
   "metadata": {},
   "outputs": [
    {
     "data": {
      "application/vnd.jupyter.widget-view+json": {
       "model_id": "62714bb95ac14f6fa5d3b09050341319",
       "version_major": 2,
       "version_minor": 0
      },
      "text/plain": [
       "VBox()"
      ]
     },
     "metadata": {},
     "output_type": "display_data"
    },
    {
     "data": {
      "application/vnd.jupyter.widget-view+json": {
       "model_id": "",
       "version_major": 2,
       "version_minor": 0
      },
      "text/plain": [
       "FloatProgress(value=0.0, bar_style='info', description='Progress:', layout=Layout(height='25px', width='50%'),…"
      ]
     },
     "metadata": {},
     "output_type": "display_data"
    },
    {
     "name": "stdout",
     "output_type": "stream",
     "text": [
      "todaysDataset: org.apache.spark.sql.DataFrame = [id: bigint, productName: string ... 3 more fields]\n"
     ]
    }
   ],
   "source": [
    "    /* Todays data has five rows, so the data size more than doubled and our anomaly check should\n",
    "       catch this */\n",
    "    val todaysDataset = itemsAsDataframe(session,\n",
    "      Item(1, \"Thingy A\", \"awesome thing.\", \"high\", 0),\n",
    "      Item(2, \"Thingy B\", \"available at http://thingb.com\", null, 0),\n",
    "      Item(3, null, null, \"low\", 5),\n",
    "      Item(4, \"Thingy D\", \"checkout https://thingd.ca\", \"low\", 10),\n",
    "      Item(5, \"Thingy E\", null, \"high\", 12))"
   ]
  },
  {
   "cell_type": "code",
   "execution_count": 15,
   "metadata": {},
   "outputs": [
    {
     "data": {
      "application/vnd.jupyter.widget-view+json": {
       "model_id": "b31ae183f93f4762abab794df5423882",
       "version_major": 2,
       "version_minor": 0
      },
      "text/plain": [
       "VBox()"
      ]
     },
     "metadata": {},
     "output_type": "display_data"
    },
    {
     "data": {
      "application/vnd.jupyter.widget-view+json": {
       "model_id": "",
       "version_major": 2,
       "version_minor": 0
      },
      "text/plain": [
       "FloatProgress(value=0.0, bar_style='info', description='Progress:', layout=Layout(height='25px', width='50%'),…"
      ]
     },
     "metadata": {},
     "output_type": "display_data"
    },
    {
     "name": "stdout",
     "output_type": "stream",
     "text": [
      "todaysKey: com.amazon.deequ.repository.ResultKey = ResultKey(1579492168395,Map())\n"
     ]
    }
   ],
   "source": [
    "    /* The key for today's result */\n",
    "    val todaysKey = ResultKey(System.currentTimeMillis())"
   ]
  },
  {
   "cell_type": "code",
   "execution_count": 16,
   "metadata": {},
   "outputs": [
    {
     "data": {
      "application/vnd.jupyter.widget-view+json": {
       "model_id": "e25e8aa40c4b4627acecaa4cf89589ca",
       "version_major": 2,
       "version_minor": 0
      },
      "text/plain": [
       "VBox()"
      ]
     },
     "metadata": {},
     "output_type": "display_data"
    },
    {
     "data": {
      "application/vnd.jupyter.widget-view+json": {
       "model_id": "",
       "version_major": 2,
       "version_minor": 0
      },
      "text/plain": [
       "FloatProgress(value=0.0, bar_style='info', description='Progress:', layout=Layout(height='25px', width='50%'),…"
      ]
     },
     "metadata": {},
     "output_type": "display_data"
    },
    {
     "name": "stdout",
     "output_type": "stream",
     "text": [
      "verificationResult: com.amazon.deequ.VerificationResult = VerificationResult(Warning,Map(Check(Warning,Anomaly check for Size(None),List(AnomalyConstraint(Size(None)))) -> CheckResult(Check(Warning,Anomaly check for Size(None),List(AnomalyConstraint(Size(None)))),Warning,List(ConstraintResult(AnomalyConstraint(Size(None)),Failure,Some(Value: 5.0 does not meet the constraint requirement!),Some(DoubleMetric(Dataset,Size,*,Success(5.0))))))),Map(Size(None) -> DoubleMetric(Dataset,Size,*,Success(5.0))))\n"
     ]
    }
   ],
   "source": [
    "    /* Repeat the anomaly check for today's data */\n",
    "    val verificationResult = VerificationSuite().onData(todaysDataset).useRepository(metricsRepository).saveOrAppendResult(todaysKey).addAnomalyCheck(RelativeRateOfChangeStrategy(maxRateIncrease = Some(2.0)), Size()).run()"
   ]
  },
  {
   "cell_type": "code",
   "execution_count": 17,
   "metadata": {},
   "outputs": [
    {
     "data": {
      "application/vnd.jupyter.widget-view+json": {
       "model_id": "ac99b696bcc04feca515d43a910f9119",
       "version_major": 2,
       "version_minor": 0
      },
      "text/plain": [
       "VBox()"
      ]
     },
     "metadata": {},
     "output_type": "display_data"
    },
    {
     "data": {
      "application/vnd.jupyter.widget-view+json": {
       "model_id": "",
       "version_major": 2,
       "version_minor": 0
      },
      "text/plain": [
       "FloatProgress(value=0.0, bar_style='info', description='Progress:', layout=Layout(height='25px', width='50%'),…"
      ]
     },
     "metadata": {},
     "output_type": "display_data"
    },
    {
     "name": "stdout",
     "output_type": "stream",
     "text": [
      "Anomaly detected in the Size() metric!\n",
      "+-------+--------+----+-----+-------------+\n",
      "| entity|instance|name|value| dataset_date|\n",
      "+-------+--------+----+-----+-------------+\n",
      "|Dataset|       *|Size|  2.0|1579490603123|\n",
      "|Dataset|       *|Size|  5.0|1579492168395|\n",
      "+-------+--------+----+-----+-------------+\n",
      "\n"
     ]
    }
   ],
   "source": [
    "    /* Did we find an anomaly? */\n",
    "    if (verificationResult.status != Success) {\n",
    "      println(\"Anomaly detected in the Size() metric!\")\n",
    "\n",
    "      /* Lets have a look at the actual metrics. */\n",
    "      metricsRepository\n",
    "        .load()\n",
    "        .forAnalyzers(Seq(Size()))\n",
    "        .getSuccessMetricsAsDataFrame(session)\n",
    "        .show()\n",
    "    }"
   ]
  },
  {
   "cell_type": "code",
   "execution_count": null,
   "metadata": {},
   "outputs": [],
   "source": []
  }
 ],
 "metadata": {
  "kernelspec": {
   "display_name": "Spark",
   "language": "",
   "name": "sparkkernel"
  },
  "language_info": {
   "codemirror_mode": "text/x-scala",
   "mimetype": "text/x-scala",
   "name": "scala",
   "pygments_lexer": "scala"
  }
 },
 "nbformat": 4,
 "nbformat_minor": 4
}
