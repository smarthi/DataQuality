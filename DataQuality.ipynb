{
 "cells": [
  {
   "cell_type": "code",
   "execution_count": 1,
   "metadata": {},
   "outputs": [
    {
     "data": {
      "text/html": [
       "Current session configs: <tt>{'conf': {'spark.jars': 'https://repo1.maven.org/maven2/com/amazon/deequ/deequ/1.0.2/deequ-1.0.2.jar'}, 'kind': 'spark'}</tt><br>"
      ],
      "text/plain": [
       "<IPython.core.display.HTML object>"
      ]
     },
     "metadata": {},
     "output_type": "display_data"
    },
    {
     "data": {
      "text/html": [
       "No active sessions."
      ],
      "text/plain": [
       "<IPython.core.display.HTML object>"
      ]
     },
     "metadata": {},
     "output_type": "display_data"
    }
   ],
   "source": [
    "%%configure -f\n",
    "{\n",
    "    \"conf\": {\n",
    "        \"spark.jars\": \"https://repo1.maven.org/maven2/com/amazon/deequ/deequ/1.0.2/deequ-1.0.2.jar\"\n",
    "    }\n",
    "}"
   ]
  },
  {
   "cell_type": "code",
   "execution_count": 2,
   "metadata": {},
   "outputs": [
    {
     "data": {
      "application/vnd.jupyter.widget-view+json": {
       "model_id": "fb8edf99b92442d0956bd378c5803cbf",
       "version_major": 2,
       "version_minor": 0
      },
      "text/plain": [
       "VBox()"
      ]
     },
     "metadata": {},
     "output_type": "display_data"
    },
    {
     "name": "stdout",
     "output_type": "stream",
     "text": [
      "Starting Spark application\n"
     ]
    },
    {
     "data": {
      "text/html": [
       "<table>\n",
       "<tr><th>ID</th><th>YARN Application ID</th><th>Kind</th><th>State</th><th>Spark UI</th><th>Driver log</th><th>Current session?</th></tr><tr><td>12</td><td>application_1578964032290_0012</td><td>spark</td><td>idle</td><td><a target=\"_blank\" href=\"http://ip-172-31-26-149.us-west-1.compute.internal:20888/proxy/application_1578964032290_0012/\">Link</a></td><td><a target=\"_blank\" href=\"http://ip-172-31-23-108.us-west-1.compute.internal:8042/node/containerlogs/container_1578964032290_0012_01_000001/livy\">Link</a></td><td>✔</td></tr></table>"
      ],
      "text/plain": [
       "<IPython.core.display.HTML object>"
      ]
     },
     "metadata": {},
     "output_type": "display_data"
    },
    {
     "data": {
      "application/vnd.jupyter.widget-view+json": {
       "model_id": "",
       "version_major": 2,
       "version_minor": 0
      },
      "text/plain": [
       "FloatProgress(value=0.0, bar_style='info', description='Progress:', layout=Layout(height='25px', width='50%'),…"
      ]
     },
     "metadata": {},
     "output_type": "display_data"
    },
    {
     "name": "stdout",
     "output_type": "stream",
     "text": [
      "SparkSession available as 'spark'.\n"
     ]
    },
    {
     "data": {
      "application/vnd.jupyter.widget-view+json": {
       "model_id": "",
       "version_major": 2,
       "version_minor": 0
      },
      "text/plain": [
       "FloatProgress(value=0.0, bar_style='info', description='Progress:', layout=Layout(height='25px', width='50%'),…"
      ]
     },
     "metadata": {},
     "output_type": "display_data"
    },
    {
     "name": "stdout",
     "output_type": "stream",
     "text": [
      "dataset: org.apache.spark.sql.DataFrame = [marketplace: string, customer_id: string ... 13 more fields]\n"
     ]
    }
   ],
   "source": [
    "val dataset = spark.read.parquet(\"s3://amazon-reviews-pds/parquet/product_category=Electronics/\")"
   ]
  },
  {
   "cell_type": "code",
   "execution_count": 3,
   "metadata": {},
   "outputs": [
    {
     "data": {
      "application/vnd.jupyter.widget-view+json": {
       "model_id": "9ce6d87519be4f5e83d9b050ee8fd93b",
       "version_major": 2,
       "version_minor": 0
      },
      "text/plain": [
       "VBox()"
      ]
     },
     "metadata": {},
     "output_type": "display_data"
    },
    {
     "data": {
      "application/vnd.jupyter.widget-view+json": {
       "model_id": "",
       "version_major": 2,
       "version_minor": 0
      },
      "text/plain": [
       "FloatProgress(value=0.0, bar_style='info', description='Progress:', layout=Layout(height='25px', width='50%'),…"
      ]
     },
     "metadata": {},
     "output_type": "display_data"
    },
    {
     "name": "stdout",
     "output_type": "stream",
     "text": [
      "root\n",
      " |-- marketplace: string (nullable = true)\n",
      " |-- customer_id: string (nullable = true)\n",
      " |-- review_id: string (nullable = true)\n",
      " |-- product_id: string (nullable = true)\n",
      " |-- product_parent: string (nullable = true)\n",
      " |-- product_title: string (nullable = true)\n",
      " |-- star_rating: integer (nullable = true)\n",
      " |-- helpful_votes: integer (nullable = true)\n",
      " |-- total_votes: integer (nullable = true)\n",
      " |-- vine: string (nullable = true)\n",
      " |-- verified_purchase: string (nullable = true)\n",
      " |-- review_headline: string (nullable = true)\n",
      " |-- review_body: string (nullable = true)\n",
      " |-- review_date: date (nullable = true)\n",
      " |-- year: integer (nullable = true)\n",
      "\n"
     ]
    }
   ],
   "source": [
    "dataset.printSchema()"
   ]
  },
  {
   "cell_type": "code",
   "execution_count": 4,
   "metadata": {},
   "outputs": [
    {
     "data": {
      "application/vnd.jupyter.widget-view+json": {
       "model_id": "063d98637f11443d8596520776ebef78",
       "version_major": 2,
       "version_minor": 0
      },
      "text/plain": [
       "VBox()"
      ]
     },
     "metadata": {},
     "output_type": "display_data"
    },
    {
     "data": {
      "application/vnd.jupyter.widget-view+json": {
       "model_id": "",
       "version_major": 2,
       "version_minor": 0
      },
      "text/plain": [
       "FloatProgress(value=0.0, bar_style='info', description='Progress:', layout=Layout(height='25px', width='50%'),…"
      ]
     },
     "metadata": {},
     "output_type": "display_data"
    },
    {
     "name": "stdout",
     "output_type": "stream",
     "text": [
      "import com.amazon.deequ.analyzers.runners.{AnalysisRunner, AnalyzerContext}\n",
      "import com.amazon.deequ.analyzers.runners.AnalyzerContext.successMetricsAsDataFrame\n",
      "import com.amazon.deequ.analyzers.{Compliance, Correlation, Size, Completeness, Mean, ApproxCountDistinct}\n"
     ]
    }
   ],
   "source": [
    "import com.amazon.deequ.analyzers.runners.{AnalysisRunner, AnalyzerContext}\n",
    "import com.amazon.deequ.analyzers.runners.AnalyzerContext.successMetricsAsDataFrame\n",
    "import com.amazon.deequ.analyzers.{Compliance, Correlation, Size, Completeness, Mean, ApproxCountDistinct}"
   ]
  },
  {
   "cell_type": "code",
   "execution_count": 5,
   "metadata": {},
   "outputs": [
    {
     "data": {
      "application/vnd.jupyter.widget-view+json": {
       "model_id": "819f184f680347c1b2573bedceed4d3b",
       "version_major": 2,
       "version_minor": 0
      },
      "text/plain": [
       "VBox()"
      ]
     },
     "metadata": {},
     "output_type": "display_data"
    },
    {
     "data": {
      "application/vnd.jupyter.widget-view+json": {
       "model_id": "",
       "version_major": 2,
       "version_minor": 0
      },
      "text/plain": [
       "FloatProgress(value=0.0, bar_style='info', description='Progress:', layout=Layout(height='25px', width='50%'),…"
      ]
     },
     "metadata": {},
     "output_type": "display_data"
    },
    {
     "name": "stdout",
     "output_type": "stream",
     "text": [
      "analysisResult: com.amazon.deequ.analyzers.runners.AnalyzerContext = AnalyzerContext(Map(Completeness(review_id,None) -> DoubleMetric(Column,Completeness,review_id,Success(1.0)), ApproxCountDistinct(review_id,None) -> DoubleMetric(Column,ApproxCountDistinct,review_id,Success(3010972.0)), Correlation(total_votes,star_rating,None) -> DoubleMetric(Mutlicolumn,Correlation,total_votes,star_rating,Success(-0.034510979965387656)), Size(None) -> DoubleMetric(Dataset,Size,*,Success(3120938.0)), Mean(star_rating,None) -> DoubleMetric(Column,Mean,star_rating,Success(4.036143941340712)), Compliance(top star_rating,star_rating >= 4.0,None) -> DoubleMetric(Column,Compliance,top star_rating,Success(0.7494070692849394)), Correlation(total_votes,helpful_votes,None) -> DoubleMetric(Mutlicolumn,Correlatio..."
     ]
    }
   ],
   "source": [
    "val analysisResult: AnalyzerContext = { AnalysisRunner\n",
    "  // data to run the analysis on\n",
    "  .onData(dataset)\n",
    "  // define analyzers that compute metrics\n",
    "  .addAnalyzer(Size())\n",
    "  .addAnalyzer(Completeness(\"review_id\"))\n",
    "  .addAnalyzer(ApproxCountDistinct(\"review_id\"))\n",
    "  .addAnalyzer(Mean(\"star_rating\"))\n",
    "  .addAnalyzer(Compliance(\"top star_rating\", \"star_rating >= 4.0\"))\n",
    "  .addAnalyzer(Correlation(\"total_votes\", \"star_rating\"))\n",
    "  .addAnalyzer(Correlation(\"total_votes\", \"helpful_votes\"))\n",
    "  // compute metrics\n",
    "  .run()\n",
    "}"
   ]
  },
  {
   "cell_type": "code",
   "execution_count": 6,
   "metadata": {},
   "outputs": [
    {
     "data": {
      "application/vnd.jupyter.widget-view+json": {
       "model_id": "e3ed97e711184c6c9325e89f8f3ffc03",
       "version_major": 2,
       "version_minor": 0
      },
      "text/plain": [
       "VBox()"
      ]
     },
     "metadata": {},
     "output_type": "display_data"
    },
    {
     "data": {
      "application/vnd.jupyter.widget-view+json": {
       "model_id": "",
       "version_major": 2,
       "version_minor": 0
      },
      "text/plain": [
       "FloatProgress(value=0.0, bar_style='info', description='Progress:', layout=Layout(height='25px', width='50%'),…"
      ]
     },
     "metadata": {},
     "output_type": "display_data"
    },
    {
     "name": "stdout",
     "output_type": "stream",
     "text": [
      "metrics: org.apache.spark.sql.DataFrame = [entity: string, instance: string ... 2 more fields]\n"
     ]
    }
   ],
   "source": [
    "val metrics = successMetricsAsDataFrame(spark, analysisResult)"
   ]
  },
  {
   "cell_type": "code",
   "execution_count": 7,
   "metadata": {},
   "outputs": [
    {
     "data": {
      "application/vnd.jupyter.widget-view+json": {
       "model_id": "86c554a5491146aea2285048a543c48d",
       "version_major": 2,
       "version_minor": 0
      },
      "text/plain": [
       "VBox()"
      ]
     },
     "metadata": {},
     "output_type": "display_data"
    },
    {
     "data": {
      "application/vnd.jupyter.widget-view+json": {
       "model_id": "",
       "version_major": 2,
       "version_minor": 0
      },
      "text/plain": [
       "FloatProgress(value=0.0, bar_style='info', description='Progress:', layout=Layout(height='25px', width='50%'),…"
      ]
     },
     "metadata": {},
     "output_type": "display_data"
    },
    {
     "name": "stdout",
     "output_type": "stream",
     "text": [
      "+-----------+--------------------+-------------------+--------------------+\n",
      "|     entity|            instance|               name|               value|\n",
      "+-----------+--------------------+-------------------+--------------------+\n",
      "|     Column|           review_id|       Completeness|                 1.0|\n",
      "|     Column|           review_id|ApproxCountDistinct|           3010972.0|\n",
      "|Mutlicolumn|total_votes,star_...|        Correlation|-0.03451097996538...|\n",
      "|    Dataset|                   *|               Size|           3120938.0|\n",
      "|     Column|         star_rating|               Mean|   4.036143941340712|\n",
      "|     Column|     top star_rating|         Compliance|  0.7494070692849394|\n",
      "|Mutlicolumn|total_votes,helpf...|        Correlation|  0.9936463809903864|\n",
      "+-----------+--------------------+-------------------+--------------------+\n",
      "\n"
     ]
    }
   ],
   "source": [
    "metrics.show() "
   ]
  },
  {
   "cell_type": "code",
   "execution_count": 8,
   "metadata": {},
   "outputs": [
    {
     "data": {
      "application/vnd.jupyter.widget-view+json": {
       "model_id": "70eec147fd184b39931ac5912d24f16c",
       "version_major": 2,
       "version_minor": 0
      },
      "text/plain": [
       "VBox()"
      ]
     },
     "metadata": {},
     "output_type": "display_data"
    },
    {
     "data": {
      "application/vnd.jupyter.widget-view+json": {
       "model_id": "",
       "version_major": 2,
       "version_minor": 0
      },
      "text/plain": [
       "FloatProgress(value=0.0, bar_style='info', description='Progress:', layout=Layout(height='25px', width='50%'),…"
      ]
     },
     "metadata": {},
     "output_type": "display_data"
    },
    {
     "name": "stdout",
     "output_type": "stream",
     "text": [
      "import com.amazon.deequ.{VerificationSuite, VerificationResult}\n",
      "import com.amazon.deequ.VerificationResult.checkResultsAsDataFrame\n",
      "import com.amazon.deequ.checks.{Check, CheckLevel}\n"
     ]
    }
   ],
   "source": [
    "import com.amazon.deequ.{VerificationSuite, VerificationResult}\n",
    "import com.amazon.deequ.VerificationResult.checkResultsAsDataFrame\n",
    "import com.amazon.deequ.checks.{Check, CheckLevel}"
   ]
  },
  {
   "cell_type": "code",
   "execution_count": 9,
   "metadata": {},
   "outputs": [
    {
     "data": {
      "application/vnd.jupyter.widget-view+json": {
       "model_id": "4c3d45e07c8c4cee889eed0eba8bb8c0",
       "version_major": 2,
       "version_minor": 0
      },
      "text/plain": [
       "VBox()"
      ]
     },
     "metadata": {},
     "output_type": "display_data"
    },
    {
     "data": {
      "application/vnd.jupyter.widget-view+json": {
       "model_id": "",
       "version_major": 2,
       "version_minor": 0
      },
      "text/plain": [
       "FloatProgress(value=0.0, bar_style='info', description='Progress:', layout=Layout(height='25px', width='50%'),…"
      ]
     },
     "metadata": {},
     "output_type": "display_data"
    },
    {
     "name": "stdout",
     "output_type": "stream",
     "text": [
      "verificationResult: com.amazon.deequ.VerificationResult = VerificationResult(Error,Map(Check(Error,Review Check,List(SizeConstraint(Size(None)), MinimumConstraint(Minimum(star_rating,None)), MaximumConstraint(Maximum(star_rating,None)), CompletenessConstraint(Completeness(review_id,None)), UniquenessConstraint(Uniqueness(List(review_id))), CompletenessConstraint(Completeness(marketplace,None)), ComplianceConstraint(Compliance(marketplace contained in US,UK,DE,JP,FR,`marketplace` IS NULL OR `marketplace` IN ('US','UK','DE','JP','FR'),None)), ComplianceConstraint(Compliance(year is non-negative,COALESCE(year, 0.0) >= 0,None)))) -> CheckResult(Check(Error,Review Check,List(SizeConstraint(Size(None)), MinimumConstraint(Minimum(star_rating,None)), MaximumConstraint(Maximum(star_rating,None))..."
     ]
    }
   ],
   "source": [
    "val verificationResult: VerificationResult = { VerificationSuite()\n",
    "  // data to run the verification on\n",
    "  .onData(dataset)\n",
    "  // define a data quality check\n",
    "  .addCheck(\n",
    "    Check(CheckLevel.Error, \"Review Check\") \n",
    "      .hasSize(_ >= 3000000) // at least 3 million rows\n",
    "      .hasMin(\"star_rating\", _ == 1.0) // min is 1.0\n",
    "      .hasMax(\"star_rating\", _ == 5.0) // max is 5.0\n",
    "      .isComplete(\"review_id\") // should never be NULL\n",
    "      .isUnique(\"review_id\") // should not contain duplicates\n",
    "      .isComplete(\"marketplace\") // should never be NULL\n",
    "      // contains only the listed values\n",
    "      .isContainedIn(\"marketplace\", Array(\"US\", \"UK\", \"DE\", \"JP\", \"FR\"))\n",
    "      .isNonNegative(\"year\")) // should not contain negative values\n",
    "  // compute metrics and verify check conditions\n",
    "  .run()\n",
    "}"
   ]
  },
  {
   "cell_type": "code",
   "execution_count": 10,
   "metadata": {},
   "outputs": [
    {
     "data": {
      "application/vnd.jupyter.widget-view+json": {
       "model_id": "ff1202589e7640dfb8d7ded32f70f3ad",
       "version_major": 2,
       "version_minor": 0
      },
      "text/plain": [
       "VBox()"
      ]
     },
     "metadata": {},
     "output_type": "display_data"
    },
    {
     "data": {
      "application/vnd.jupyter.widget-view+json": {
       "model_id": "",
       "version_major": 2,
       "version_minor": 0
      },
      "text/plain": [
       "FloatProgress(value=0.0, bar_style='info', description='Progress:', layout=Layout(height='25px', width='50%'),…"
      ]
     },
     "metadata": {},
     "output_type": "display_data"
    },
    {
     "name": "stdout",
     "output_type": "stream",
     "text": [
      "resultDataFrame: org.apache.spark.sql.DataFrame = [check: string, check_level: string ... 4 more fields]\n"
     ]
    }
   ],
   "source": [
    "val resultDataFrame = checkResultsAsDataFrame(spark, verificationResult)"
   ]
  },
  {
   "cell_type": "code",
   "execution_count": 11,
   "metadata": {},
   "outputs": [
    {
     "data": {
      "application/vnd.jupyter.widget-view+json": {
       "model_id": "4eb39fec20b44cd1950983f947c3f57c",
       "version_major": 2,
       "version_minor": 0
      },
      "text/plain": [
       "VBox()"
      ]
     },
     "metadata": {},
     "output_type": "display_data"
    },
    {
     "data": {
      "application/vnd.jupyter.widget-view+json": {
       "model_id": "",
       "version_major": 2,
       "version_minor": 0
      },
      "text/plain": [
       "FloatProgress(value=0.0, bar_style='info', description='Progress:', layout=Layout(height='25px', width='50%'),…"
      ]
     },
     "metadata": {},
     "output_type": "display_data"
    },
    {
     "name": "stdout",
     "output_type": "stream",
     "text": [
      "+------------+-----------+------------+---------------------------------------------------------------------------------------------------------------------------------------------------+-----------------+-------------------------------------------------------------------+\n",
      "|check       |check_level|check_status|constraint                                                                                                                                         |constraint_status|constraint_message                                                 |\n",
      "+------------+-----------+------------+---------------------------------------------------------------------------------------------------------------------------------------------------+-----------------+-------------------------------------------------------------------+\n",
      "|Review Check|Error      |Error       |SizeConstraint(Size(None))                                                                                                                         |Success          |                                                                   |\n",
      "|Review Check|Error      |Error       |MinimumConstraint(Minimum(star_rating,None))                                                                                                       |Success          |                                                                   |\n",
      "|Review Check|Error      |Error       |MaximumConstraint(Maximum(star_rating,None))                                                                                                       |Success          |                                                                   |\n",
      "|Review Check|Error      |Error       |CompletenessConstraint(Completeness(review_id,None))                                                                                               |Success          |                                                                   |\n",
      "|Review Check|Error      |Error       |UniquenessConstraint(Uniqueness(List(review_id)))                                                                                                  |Failure          |Value: 0.9926566948782706 does not meet the constraint requirement!|\n",
      "|Review Check|Error      |Error       |CompletenessConstraint(Completeness(marketplace,None))                                                                                             |Success          |                                                                   |\n",
      "|Review Check|Error      |Error       |ComplianceConstraint(Compliance(marketplace contained in US,UK,DE,JP,FR,`marketplace` IS NULL OR `marketplace` IN ('US','UK','DE','JP','FR'),None))|Success          |                                                                   |\n",
      "|Review Check|Error      |Error       |ComplianceConstraint(Compliance(year is non-negative,COALESCE(year, 0.0) >= 0,None))                                                               |Success          |                                                                   |\n",
      "+------------+-----------+------------+---------------------------------------------------------------------------------------------------------------------------------------------------+-----------------+-------------------------------------------------------------------+\n",
      "\n"
     ]
    }
   ],
   "source": [
    "resultDataFrame.show(truncate=false) "
   ]
  },
  {
   "cell_type": "code",
   "execution_count": 12,
   "metadata": {},
   "outputs": [
    {
     "data": {
      "application/vnd.jupyter.widget-view+json": {
       "model_id": "9950401119b04b8b8b7acf76ba1a0641",
       "version_major": 2,
       "version_minor": 0
      },
      "text/plain": [
       "VBox()"
      ]
     },
     "metadata": {},
     "output_type": "display_data"
    },
    {
     "data": {
      "application/vnd.jupyter.widget-view+json": {
       "model_id": "",
       "version_major": 2,
       "version_minor": 0
      },
      "text/plain": [
       "FloatProgress(value=0.0, bar_style='info', description='Progress:', layout=Layout(height='25px', width='50%'),…"
      ]
     },
     "metadata": {},
     "output_type": "display_data"
    },
    {
     "name": "stdout",
     "output_type": "stream",
     "text": [
      "+-------+---------------------------------------+------------+------------------+\n",
      "|entity |instance                               |name        |value             |\n",
      "+-------+---------------------------------------+------------+------------------+\n",
      "|Column |review_id                              |Completeness|1.0               |\n",
      "|Column |review_id                              |Uniqueness  |0.9926566948782706|\n",
      "|Dataset|*                                      |Size        |3120938.0         |\n",
      "|Column |star_rating                            |Maximum     |5.0               |\n",
      "|Column |star_rating                            |Minimum     |1.0               |\n",
      "|Column |year is non-negative                   |Compliance  |1.0               |\n",
      "|Column |marketplace contained in US,UK,DE,JP,FR|Compliance  |1.0               |\n",
      "|Column |marketplace                            |Completeness|1.0               |\n",
      "+-------+---------------------------------------+------------+------------------+\n",
      "\n"
     ]
    }
   ],
   "source": [
    "VerificationResult.successMetricsAsDataFrame(spark, verificationResult).show(truncate=false)"
   ]
  },
  {
   "cell_type": "markdown",
   "metadata": {},
   "source": [
    "# Automated Constraint Suggestion"
   ]
  },
  {
   "cell_type": "code",
   "execution_count": 13,
   "metadata": {},
   "outputs": [
    {
     "data": {
      "application/vnd.jupyter.widget-view+json": {
       "model_id": "d426664da3804488b2131fa1fd6cd9ca",
       "version_major": 2,
       "version_minor": 0
      },
      "text/plain": [
       "VBox()"
      ]
     },
     "metadata": {},
     "output_type": "display_data"
    },
    {
     "data": {
      "application/vnd.jupyter.widget-view+json": {
       "model_id": "",
       "version_major": 2,
       "version_minor": 0
      },
      "text/plain": [
       "FloatProgress(value=0.0, bar_style='info', description='Progress:', layout=Layout(height='25px', width='50%'),…"
      ]
     },
     "metadata": {},
     "output_type": "display_data"
    },
    {
     "name": "stdout",
     "output_type": "stream",
     "text": [
      "import com.amazon.deequ.suggestions.{ConstraintSuggestionRunner, Rules}\n",
      "import spark.implicits._\n"
     ]
    }
   ],
   "source": [
    "import com.amazon.deequ.suggestions.{ConstraintSuggestionRunner, Rules}\n",
    "import spark.implicits._ // for toDS method"
   ]
  },
  {
   "cell_type": "code",
   "execution_count": 14,
   "metadata": {},
   "outputs": [
    {
     "data": {
      "application/vnd.jupyter.widget-view+json": {
       "model_id": "e889c3d1f0964c12b8d1195b7d50b538",
       "version_major": 2,
       "version_minor": 0
      },
      "text/plain": [
       "VBox()"
      ]
     },
     "metadata": {},
     "output_type": "display_data"
    },
    {
     "data": {
      "application/vnd.jupyter.widget-view+json": {
       "model_id": "",
       "version_major": 2,
       "version_minor": 0
      },
      "text/plain": [
       "FloatProgress(value=0.0, bar_style='info', description='Progress:', layout=Layout(height='25px', width='50%'),…"
      ]
     },
     "metadata": {},
     "output_type": "display_data"
    },
    {
     "name": "stdout",
     "output_type": "stream",
     "text": [
      "Unable to map type DateType\n",
      "suggestionResult: com.amazon.deequ.suggestions.ConstraintSuggestionResult = ConstraintSuggestionResult(Map(review_id -> StandardColumnProfile(review_id,1.0,3010972,String,true,Map(Boolean -> 0, Fractional -> 0, Integral -> 0, Unknown -> 0, String -> 3120938),None), customer_id -> NumericColumnProfile(customer_id,1.0,2170036,Integral,true,Map(Boolean -> 0, Fractional -> 0, Integral -> 3120938, Unknown -> 0, String -> 0),None,Some(2.880603268895954E7),Some(5.3096582E7),Some(10005.0),Some(8.9901842048216E13),Some(1.5415072111267326E7),Some(Stream(10005.0, ?))), review_date -> StandardColumnProfile(review_date,1.0,5898,Unknown,false,Map(),None), helpful_votes -> NumericColumnProfile(helpful_votes,1.0,872,Integral,false,Map(),None,Some(1.865194053838942),Some(12786.0),Some(0.0),Some(5821155....suggestionDataFrame: org.apache.spark.sql.Dataset[(String, String, String)] = [_1: string, _2: string ... 1 more field]\n"
     ]
    }
   ],
   "source": [
    "// We ask deequ to compute constraint suggestions for us on the data\n",
    "val suggestionResult = { ConstraintSuggestionRunner()\n",
    "  // data to suggest constraints for\n",
    "  .onData(dataset)\n",
    "  // default set of rules for constraint suggestion\n",
    "  .addConstraintRules(Rules.DEFAULT)\n",
    "  // run data profiling and constraint suggestion\n",
    "  .run()\n",
    "}\n",
    "\n",
    "// We can now investigate the constraints that Deequ suggested. \n",
    "val suggestionDataFrame = suggestionResult.constraintSuggestions.flatMap { \n",
    "  case (column, suggestions) => \n",
    "    suggestions.map { constraint =>\n",
    "      (column, constraint.description, constraint.codeForConstraint)\n",
    "    } \n",
    "}.toSeq.toDS()"
   ]
  },
  {
   "cell_type": "code",
   "execution_count": 15,
   "metadata": {},
   "outputs": [
    {
     "data": {
      "application/vnd.jupyter.widget-view+json": {
       "model_id": "991f9d5587b64d4599d221535e62d45b",
       "version_major": 2,
       "version_minor": 0
      },
      "text/plain": [
       "VBox()"
      ]
     },
     "metadata": {},
     "output_type": "display_data"
    },
    {
     "data": {
      "application/vnd.jupyter.widget-view+json": {
       "model_id": "",
       "version_major": 2,
       "version_minor": 0
      },
      "text/plain": [
       "FloatProgress(value=0.0, bar_style='info', description='Progress:', layout=Layout(height='25px', width='50%'),…"
      ]
     },
     "metadata": {},
     "output_type": "display_data"
    },
    {
     "name": "stdout",
     "output_type": "stream",
     "text": [
      "+---------------+-------------------------------------------------+--------------------------------------------------------------------------------+\n",
      "|_1             |_2                                               |_3                                                                              |\n",
      "+---------------+-------------------------------------------------+--------------------------------------------------------------------------------+\n",
      "|review_id      |'review_id' is not null                          |.isComplete(\"review_id\")                                                        |\n",
      "|customer_id    |'customer_id' is not null                        |.isComplete(\"customer_id\")                                                      |\n",
      "|customer_id    |'customer_id' has type Integral                  |.hasDataType(\"customer_id\", ConstrainableDataTypes.Integral)                    |\n",
      "|customer_id    |'customer_id' has no negative values             |.isNonNegative(\"customer_id\")                                                   |\n",
      "|review_date    |'review_date' is not null                        |.isComplete(\"review_date\")                                                      |\n",
      "|helpful_votes  |'helpful_votes' is not null                      |.isComplete(\"helpful_votes\")                                                    |\n",
      "|helpful_votes  |'helpful_votes' has no negative values           |.isNonNegative(\"helpful_votes\")                                                 |\n",
      "|star_rating    |'star_rating' is not null                        |.isComplete(\"star_rating\")                                                      |\n",
      "|star_rating    |'star_rating' has no negative values             |.isNonNegative(\"star_rating\")                                                   |\n",
      "|year           |'year' is not null                               |.isComplete(\"year\")                                                             |\n",
      "|year           |'year' has no negative values                    |.isNonNegative(\"year\")                                                          |\n",
      "|product_title  |'product_title' is not null                      |.isComplete(\"product_title\")                                                    |\n",
      "|review_headline|'review_headline' has less than 1% missing values|.hasCompleteness(\"review_headline\", _ >= 0.99, Some(\"It should be above 0.99!\"))|\n",
      "|product_id     |'product_id' is not null                         |.isComplete(\"product_id\")                                                       |\n",
      "|total_votes    |'total_votes' is not null                        |.isComplete(\"total_votes\")                                                      |\n",
      "|total_votes    |'total_votes' has no negative values             |.isNonNegative(\"total_votes\")                                                   |\n",
      "|product_parent |'product_parent' is not null                     |.isComplete(\"product_parent\")                                                   |\n",
      "|product_parent |'product_parent' has type Integral               |.hasDataType(\"product_parent\", ConstrainableDataTypes.Integral)                 |\n",
      "|product_parent |'product_parent' has no negative values          |.isNonNegative(\"product_parent\")                                                |\n",
      "|review_body    |'review_body' has less than 1% missing values    |.hasCompleteness(\"review_body\", _ >= 0.99, Some(\"It should be above 0.99!\"))    |\n",
      "+---------------+-------------------------------------------------+--------------------------------------------------------------------------------+\n",
      "only showing top 20 rows\n",
      "\n"
     ]
    }
   ],
   "source": [
    "suggestionDataFrame.show(truncate=false)"
   ]
  },
  {
   "cell_type": "code",
   "execution_count": null,
   "metadata": {},
   "outputs": [],
   "source": []
  }
 ],
 "metadata": {
  "kernelspec": {
   "display_name": "Spark",
   "language": "",
   "name": "sparkkernel"
  },
  "language_info": {
   "codemirror_mode": "text/x-scala",
   "mimetype": "text/x-scala",
   "name": "scala",
   "pygments_lexer": "scala"
  }
 },
 "nbformat": 4,
 "nbformat_minor": 4
}
